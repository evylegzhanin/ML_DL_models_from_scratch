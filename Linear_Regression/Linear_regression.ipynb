{
  "nbformat": 4,
  "nbformat_minor": 0,
  "metadata": {
    "colab": {
      "name": "Linear_regression_one_variable.ipynb",
      "provenance": []
    },
    "kernelspec": {
      "name": "python3",
      "display_name": "Python 3"
    },
    "language_info": {
      "name": "python"
    }
  },
  "cells": [
    {
      "cell_type": "markdown",
      "source": [
        "# Linear Regression"
      ],
      "metadata": {
        "id": "xZsDWR2kCibO"
      }
    },
    {
      "cell_type": "markdown",
      "source": [
        "Linear regression model with multiple variables looks like this: \n",
        "\\begin{align}\n",
        "{a(x)} = {\\left\\langle w, x\\right\\rangle}.\n",
        "  \\end{align}\n",
        "\n",
        "Linear regression model with one variable looks like this: \n",
        "\\begin{align}\n",
        "{a(x)} = {w_1x + w_0}.\n",
        "  \\end{align}\n",
        "\n",
        "In order to find the optimal parameteres $w_i$ the gradient descent method will be used:\n",
        "\\begin{align}\n",
        "w^t=w^{t-1} - \\eta_t \\nabla Q(w^{t-1}, X)\n",
        "  \\end{align}\n",
        "\n",
        "The end of the iterations happens when:\n",
        "\\begin{align}\n",
        "||w^t - w^{t-1} || < \\varepsilon\n",
        "  \\end{align}\n",
        "\n",
        "As for the cost function I will use the MSE:\n",
        "\\begin{align} \n",
        "Q(w, X)=\\frac{1}{l}\\sum_{i=1}^l (\\left\\langle w, x_i\\right\\rangle - y_i)^2 \\rightarrow \\mathop{min}_{w}\n",
        "  \\end{align}\n",
        "\\begin{align}\n",
        "Q(w_0,w_1,X)=\\frac{1}{l}\\sum_{i=1}^l (w_1x_i + w_0 -y_i)^2\n",
        "  \\end{align}\n",
        "\n",
        "Partial derivatives for one variable case to perform gradient descent:\n",
        "\\begin{align} \n",
        "\\frac{\\partial Q}{\\partial w_0} = \\frac{2}{l} \\sum_{i=1}^l (w_1x_i + w_0 -y_i) ,\\ \\frac{\\partial Q}{\\partial w_1} = \\frac{2}{l} \\sum_{i=1}^l (w_1x_i + w_0 -y_i)x_i\n",
        "  \\end{align}\n",
        "\n",
        "Matrix form of the cost function (multivariable case):\n",
        "\\begin{align}\n",
        "Q(w, X)=\\frac{1}{l} || Xw - y ||^2 \\rightarrow \\mathop{min}_{w}\n",
        "  \\end{align}\n",
        "\n",
        "Matrix form of the gradient:\n",
        "\\begin{align}\n",
        "\\nabla_wQ(w, X)=\\frac{2}{l} X^T(Xw - y)\n",
        "  \\end{align}"
      ],
      "metadata": {
        "id": "PHsg60lGDI8p"
      }
    },
    {
      "cell_type": "markdown",
      "source": [
        "### Linear regression (one variable)"
      ],
      "metadata": {
        "id": "ulXE3E4CuNhB"
      }
    },
    {
      "cell_type": "code",
      "source": [
        "import pandas as pd\n",
        "import numpy as np\n",
        "import matplotlib.pyplot as plt\n",
        "import seaborn as sns"
      ],
      "metadata": {
        "id": "9LZIdfvdCsEB"
      },
      "execution_count": 164,
      "outputs": []
    },
    {
      "cell_type": "code",
      "source": [
        "data = pd.read_csv('ex1data1.csv', names=['X', 'y'], header=None)"
      ],
      "metadata": {
        "id": "gQ4H__BSCrUh"
      },
      "execution_count": 43,
      "outputs": []
    },
    {
      "cell_type": "code",
      "source": [
        "X = data.copy()\n",
        "X.insert(0, '1', 1)\n",
        "y = X.pop('y')"
      ],
      "metadata": {
        "id": "ZFb9PlrhI8Rx"
      },
      "execution_count": 167,
      "outputs": []
    },
    {
      "cell_type": "code",
      "source": [
        "fig1 = sns.relplot(X['X'], y)\n",
        "plt.xlabel('Population of City in 10,000s')\n",
        "plt.ylabel('Profit in $10,000s');\n",
        "plt.show(fig1)"
      ],
      "metadata": {
        "colab": {
          "base_uri": "https://localhost:8080/",
          "height": 424
        },
        "id": "17E94d5jz40J",
        "outputId": "795cb278-ba9b-4ce2-cce0-3567d253e10f"
      },
      "execution_count": 176,
      "outputs": [
        {
          "output_type": "stream",
          "name": "stderr",
          "text": [
            "/usr/local/lib/python3.7/dist-packages/seaborn/_decorators.py:43: FutureWarning: Pass the following variables as keyword args: x, y. From version 0.12, the only valid positional argument will be `data`, and passing other arguments without an explicit keyword will result in an error or misinterpretation.\n",
            "  FutureWarning\n"
          ]
        },
        {
          "output_type": "display_data",
          "data": {
            "text/plain": [
              "<Figure size 360x360 with 1 Axes>"
            ],
            "image/png": "[encoded data removed]"
          },
          "metadata": {
            "needs_background": "light"
          }
        }
      ]
    },
    {
      "cell_type": "code",
      "source": [
        "def cost_function(X, y, w):\n",
        "  return (1/X.shape[0]) * np.linalg.norm(X.dot(w) - y) ** 2"
      ],
      "metadata": {
        "id": "_7L-0-p0Smbo"
      },
      "execution_count": 148,
      "outputs": []
    },
    {
      "cell_type": "markdown",
      "source": [
        "Gradient descent function:"
      ],
      "metadata": {
        "id": "lnGklIiH4qfa"
      }
    },
    {
      "cell_type": "code",
      "source": [
        "def gradient_descent(X, y, w):\n",
        "  L = X.shape[0]\n",
        "  eps = 0.0001\n",
        "  w_tmp = np.array([1, 1])\n",
        "  grad_over_iter = []\n",
        "  learning_rate = 0.01\n",
        "  while np.linalg.norm(w_tmp - w) > eps:\n",
        "    w_tmp = w\n",
        "    w = w - learning_rate*2/L*np.transpose(X).dot(X.dot(w) - y)\n",
        "    grad_over_iter.append(cost_function(X, y, w))\n",
        "  return grad_over_iter, w\n"
      ],
      "metadata": {
        "id": "KU5sMRaskbXJ"
      },
      "execution_count": 245,
      "outputs": []
    },
    {
      "cell_type": "markdown",
      "source": [
        "Stochastic gradient descent function:"
      ],
      "metadata": {
        "id": "XFE7IaaG4tHS"
      }
    },
    {
      "cell_type": "code",
      "source": [
        "def stochastic_gd(X, y, w):\n",
        "  pass"
      ],
      "metadata": {
        "id": "7BN3-h4A4zgc"
      },
      "execution_count": null,
      "outputs": []
    },
    {
      "cell_type": "code",
      "source": [
        "w = np.zeros((X.shape[1]))\n",
        "X_np = X.copy()\n",
        "y_np = y.copy()\n",
        "X_np = X_np.to_numpy()\n",
        "y_np = y_np.to_numpy()"
      ],
      "metadata": {
        "id": "c4PlmHcRUHbo"
      },
      "execution_count": 246,
      "outputs": []
    },
    {
      "cell_type": "code",
      "source": [
        "plot_grad, w = gradient_descent(X_np, y_np, w)"
      ],
      "metadata": {
        "id": "Q8OnV3nfTVY2"
      },
      "execution_count": 247,
      "outputs": []
    },
    {
      "cell_type": "code",
      "source": [
        "plt.plot(plot_grad)\n",
        "plt.grid()"
      ],
      "metadata": {
        "colab": {
          "base_uri": "https://localhost:8080/",
          "height": 265
        },
        "id": "Wcf52ATrW3m4",
        "outputId": "5ec5ff7d-c8b9-47cd-ff2a-8581ad511ac6"
      },
      "execution_count": 248,
      "outputs": [
        {
          "output_type": "display_data",
          "data": {
            "text/plain": [
              "<Figure size 432x288 with 1 Axes>"
            ],
            "image/png": "[encoded data removed]"
          },
          "metadata": {
            "needs_background": "light"
          }
        }
      ]
    },
    {
      "cell_type": "code",
      "source": [
        "sns.relplot(X['X'], y)\n",
        "sns.lineplot(X['X'], X.dot(w), color='red')\n",
        "plt.xlabel('Population of City in 10,000s')\n",
        "plt.ylabel('Profit in $10,000s')"
      ],
      "metadata": {
        "colab": {
          "base_uri": "https://localhost:8080/",
          "height": 476
        },
        "id": "v6TIw8ZWpY9w",
        "outputId": "642b9403-5ae2-4d39-d982-3ea0f0e93814"
      },
      "execution_count": 249,
      "outputs": [
        {
          "output_type": "stream",
          "name": "stderr",
          "text": [
            "/usr/local/lib/python3.7/dist-packages/seaborn/_decorators.py:43: FutureWarning: Pass the following variables as keyword args: x, y. From version 0.12, the only valid positional argument will be `data`, and passing other arguments without an explicit keyword will result in an error or misinterpretation.\n",
            "  FutureWarning\n",
            "/usr/local/lib/python3.7/dist-packages/seaborn/_decorators.py:43: FutureWarning: Pass the following variables as keyword args: x, y. From version 0.12, the only valid positional argument will be `data`, and passing other arguments without an explicit keyword will result in an error or misinterpretation.\n",
            "  FutureWarning\n"
          ]
        },
        {
          "output_type": "execute_result",
          "data": {
            "text/plain": [
              "Text(9.924999999999997, 0.5, 'Profit in $10,000s')"
            ]
          },
          "metadata": {},
          "execution_count": 249
        },
        {
          "output_type": "display_data",
          "data": {
            "text/plain": [
              "<Figure size 360x360 with 1 Axes>"
            ],
            "image/png": "[encoded data removed]"
          },
          "metadata": {
            "needs_background": "light"
          }
        }
      ]
    }
  ]
}