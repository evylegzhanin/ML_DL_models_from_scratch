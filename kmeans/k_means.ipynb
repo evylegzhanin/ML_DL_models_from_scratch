{
  "nbformat": 4,
  "nbformat_minor": 0,
  "metadata": {
    "colab": {
      "name": "K_means.ipynb",
      "provenance": []
    },
    "kernelspec": {
      "name": "python3",
      "display_name": "Python 3"
    },
    "language_info": {
      "name": "python"
    }
  },
  "cells": [
    {
      "cell_type": "markdown",
      "source": [
        "# K-means"
      ],
      "metadata": {
        "id": "jKoKtaF-Run2"
      }
    },
    {
      "cell_type": "markdown",
      "source": [
        "Let's consider K-means algorithm:\n",
        "\n",
        "**Input:**\n",
        "\n",
        "- $K$ (number of clusters)\n",
        "- Training set $\\{x^{(1)}, x^{(2)},...,x^{(m)}\\}$\n",
        "\n",
        "**Algorithm:**\n",
        "\n",
        "1) Randomly initialize *K* cluster centroids $\\mu_1, \\mu_2,..., \\mu_K \\in \\mathbb{R}^n$\n",
        "\n",
        "2) Repeat:\n",
        "  - for $i$=1 to $m$ \n",
        "\n",
        "$\\qquad c^{(i)} :=$ index (from 1 to $K$) of cluster centroid closest to $x^{(i)}$\n",
        "  - for $k$=1 to $K$ \n",
        "\n",
        "$\\qquad \\mu_k :=$ average (mean) of points assigned to cluster $k$\n",
        "\n",
        "**Optimization objective:**\n",
        "\n",
        "Cost function:\n",
        "$J(c^{(1)},...,c^{(m)},\\mu_1,...,\\mu_K) = \\frac{1}{m}\\sum_{i=1}^m ||x^{(i)}-\\mu_{c{(i)}}||^2$\n",
        "\n",
        "Minimize:\n",
        "\n",
        "$\\min_{c^{(1)},...,c^{(m)}, \\mu_1,...,\\mu_K}\\: J(c^{(1)},...,c^{(m)},\\mu_1,...,\\mu_K)$\n",
        "\n",
        "**Dataset:**\n",
        "\n",
        "Dataset is generated with sklearn.datasets.make_blobs (and make_moons)"
      ],
      "metadata": {
        "id": "EPbFsXmER47t"
      }
    },
    {
      "cell_type": "code",
      "source": [
        "import pandas as pd\n",
        "import numpy as np\n",
        "import matplotlib.pyplot as plt\n",
        "import random\n",
        "import seaborn as sns \n",
        "from sklearn.datasets import make_blobs"
      ],
      "metadata": {
        "id": "V_H7kVZphTk0"
      },
      "execution_count": 7,
      "outputs": []
    },
    {
      "cell_type": "code",
      "execution_count": 63,
      "metadata": {
        "id": "a4exATZIEVXI"
      },
      "outputs": [],
      "source": [
        "class KMeans:\n",
        "  def __init__(self, K=5, num_init=50):\n",
        "    self.K = K\n",
        "    self.num_init = num_init\n",
        "  \n",
        "  def train(self, train_data):\n",
        "    random_clusters = random.sample(range(0, 200), self.K)\n",
        "    centroids = train_data.iloc[random_clusters, :]\n",
        "    print(centroids)"
      ]
    },
    {
      "cell_type": "code",
      "source": [
        "X, y = make_blobs(n_samples=200, centers=5, n_features=2, center_box=(-15.0, 15.0))\n",
        "train = pd.DataFrame(dict(x=X[:,0], y=X[:,1], label=y))\n",
        "sns.scatterplot(train['x'], train['y'], hue=train['label'])\n",
        "plt.show()"
      ],
      "metadata": {
        "colab": {
          "base_uri": "https://localhost:8080/",
          "height": 334
        },
        "id": "3SxJqZhquHFJ",
        "outputId": "73acdaf5-a17d-4310-ab3d-b1ad67af1fac"
      },
      "execution_count": 64,
      "outputs": [
        {
          "output_type": "stream",
          "name": "stderr",
          "text": [
            "/usr/local/lib/python3.7/dist-packages/seaborn/_decorators.py:43: FutureWarning: Pass the following variables as keyword args: x, y. From version 0.12, the only valid positional argument will be `data`, and passing other arguments without an explicit keyword will result in an error or misinterpretation.\n",
            "  FutureWarning\n"
          ]
        },
        {
          "output_type": "display_data",
          "data": {
            "text/plain": [
              "<Figure size 432x288 with 1 Axes>"
            ],
            "image/png": "[encoded data removed]"
          },
          "metadata": {
            "needs_background": "light"
          }
        }
      ]
    },
    {
      "cell_type": "code",
      "source": [
        "model = KMeans()\n",
        "model.train(train)"
      ],
      "metadata": {
        "colab": {
          "base_uri": "https://localhost:8080/"
        },
        "id": "QWSA1QHah-2w",
        "outputId": "3ec9576c-3387-4658-e5ed-9ac49b4faad7"
      },
      "execution_count": 65,
      "outputs": [
        {
          "output_type": "stream",
          "name": "stdout",
          "text": [
            "             x          y  label\n",
            "196   8.536584   6.707362      2\n",
            "161 -11.617875  -7.437564      1\n",
            "114   7.428960  14.720800      3\n",
            "96    2.578556   1.707136      4\n",
            "158  10.053213  15.491430      3\n"
          ]
        }
      ]
    }
  ]
}