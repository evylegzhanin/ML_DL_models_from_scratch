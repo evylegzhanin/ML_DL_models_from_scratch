{
  "nbformat": 4,
  "nbformat_minor": 0,
  "metadata": {
    "colab": {
      "name": "K_means.ipynb",
      "provenance": []
    },
    "kernelspec": {
      "name": "python3",
      "display_name": "Python 3"
    },
    "language_info": {
      "name": "python"
    }
  },
  "cells": [
    {
      "cell_type": "markdown",
      "source": [
        "# K-means"
      ],
      "metadata": {
        "id": "jKoKtaF-Run2"
      }
    },
    {
      "cell_type": "markdown",
      "source": [
        "Let's consider K-means algorithm:\n",
        "\n",
        "**Input:**\n",
        "\n",
        "- $K$ (number of clusters)\n",
        "- Training set $\\{x^{(1)}, x^{(2)},...,x^{(m)}\\}$\n",
        "\n",
        "**Algorithm:**\n",
        "\n",
        "1) Randomly initialize *K* cluster centroids $\\mu_1, \\mu_2,..., \\mu_K \\in \\mathbb{R}^n$\n",
        "\n",
        "2) Repeat:\n",
        "  - for $i$=1 to $m$ \n",
        "\n",
        "$\\qquad c^{(i)} :=$ index (from 1 to $K$) of cluster centroid closest to $x^{(i)}$\n",
        "  - for $k$=1 to $K$ \n",
        "\n",
        "$\\qquad \\mu_k :=$ average (mean) of points assigned to cluster $k$\n",
        "\n",
        "**Optimization objective:**\n",
        "\n",
        "Cost function:\n",
        "$J(c^{(1)},...,c^{(m)},\\mu_1,...,\\mu_K) = \\frac{1}{m}\\sum_{i=1}^m ||x^{(i)}-\\mu_{c{(i)}}||^2$\n",
        "\n",
        "Minimize:\n",
        "\n",
        "$\\min_{c^{(1)},...,c^{(m)}, \\mu_1,...,\\mu_K}\\: J(c^{(1)},...,c^{(m)},\\mu_1,...,\\mu_K)$\n",
        "\n"
      ],
      "metadata": {
        "id": "EPbFsXmER47t"
      }
    },
    {
      "cell_type": "code",
      "execution_count": null,
      "metadata": {
        "id": "a4exATZIEVXI"
      },
      "outputs": [],
      "source": [
        "class KMeans:\n",
        "  def __init__(self, K, num_init):\n",
        "    self.K = K\n",
        "    self.num_init = num_init\n",
        "  \n",
        "  def train(self, train_data):\n",
        "    pass"
      ]
    }
  ]
}