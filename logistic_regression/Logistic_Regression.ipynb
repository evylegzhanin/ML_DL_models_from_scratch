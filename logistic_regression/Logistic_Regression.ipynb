{
  "nbformat": 4,
  "nbformat_minor": 0,
  "metadata": {
    "colab": {
      "name": "Logistic_Regression.ipynb",
      "provenance": []
    },
    "kernelspec": {
      "name": "python3",
      "display_name": "Python 3"
    },
    "language_info": {
      "name": "python"
    }
  },
  "cells": [
    {
      "cell_type": "markdown",
      "source": [
        "# Logistic regression for the binary classification problem"
      ],
      "metadata": {
        "id": "Lg4_26ygkhnx"
      }
    },
    {
      "cell_type": "markdown",
      "source": [
        "Let's start with some basic formula. \n",
        "\n",
        "Logistic regression hypothesis is defined as:\n",
        "\\begin{align}\n",
        "        h_\\theta(x)=g(\\theta^Tx)\n",
        "    \\end{align}\n",
        "where function $g$ is the sigmoid function:\n",
        "\\begin{align}\n",
        "        g(z)=\\frac{1}{1+e^{-z}}\n",
        "    \\end{align}\n",
        "There are many options for a cost function of the logistic regression, but I chose this one: \n",
        "\\begin{align}\n",
        "        J(\\theta)=\\frac{1}{m}\\sum_{i=1}^m[-y^{(i)}log(h_\\theta(x^{(i)})) - (1-y^{(i)})log(1-h_\\theta(x^{(i)}))]\n",
        "    \\end{align}\n",
        "The gradient of the cost is a vector of the same length as $\\theta$ where the $j^{th}$ element (for $j$ = 0,1,...,n) is defined as follows:\n",
        "\\begin{align}\n",
        "        \\frac{\\partial J(\\theta)}{\\partial\\theta_j}=\\frac{1}{m}\\sum_{i=1}^m(h_\\theta(x^{(i)})-y^{(i)})x_j^{(i)}\n",
        "    \\end{align}\n",
        "\n",
        "The gradient looks identical to the linear regression gradient, the formula is actually different because linear and logistic regression have different definitions of $h_\\theta(x)$."
      ],
      "metadata": {
        "id": "Vovnk7O7krjr"
      }
    },
    {
      "cell_type": "code",
      "source": [
        "import pandas as pd\n",
        "import numpy as np\n",
        "import seaborn as sns\n",
        "import matplotlib.pyplot as plt"
      ],
      "metadata": {
        "id": "WkOcoHaOoS3I"
      },
      "execution_count": 163,
      "outputs": []
    },
    {
      "cell_type": "code",
      "execution_count": 188,
      "metadata": {
        "id": "hZamm6jMkgv_"
      },
      "outputs": [],
      "source": [
        "data1 = pd.read_csv('ex2data1.csv', header=None, names=['X1', 'X2', 'y'])"
      ]
    },
    {
      "cell_type": "code",
      "source": [
        "data1.head()"
      ],
      "metadata": {
        "colab": {
          "base_uri": "https://localhost:8080/",
          "height": 206
        },
        "id": "PXG92rs2qJ7M",
        "outputId": "918220e7-1675-47d9-bb79-3675e05849e0"
      },
      "execution_count": 189,
      "outputs": [
        {
          "output_type": "execute_result",
          "data": {
            "text/plain": [
              "          X1         X2  y\n",
              "0  34.623660  78.024693  0\n",
              "1  30.286711  43.894998  0\n",
              "2  35.847409  72.902198  0\n",
              "3  60.182599  86.308552  1\n",
              "4  79.032736  75.344376  1"
            ],
            "text/html": [
              "\n",
              "  <div id=\"df-05eab378-ad14-44ac-9d6e-afb3784ce9c5\">\n",
              "    <div class=\"colab-df-container\">\n",
              "      <div>\n",
              "<style scoped>\n",
              "    .dataframe tbody tr th:only-of-type {\n",
              "        vertical-align: middle;\n",
              "    }\n",
              "\n",
              "    .dataframe tbody tr th {\n",
              "        vertical-align: top;\n",
              "    }\n",
              "\n",
              "    .dataframe thead th {\n",
              "        text-align: right;\n",
              "    }\n",
              "</style>\n",
              "<table border=\"1\" class=\"dataframe\">\n",
              "  <thead>\n",
              "    <tr style=\"text-align: right;\">\n",
              "      <th></th>\n",
              "      <th>X1</th>\n",
              "      <th>X2</th>\n",
              "      <th>y</th>\n",
              "    </tr>\n",
              "  </thead>\n",
              "  <tbody>\n",
              "    <tr>\n",
              "      <th>0</th>\n",
              "      <td>34.623660</td>\n",
              "      <td>78.024693</td>\n",
              "      <td>0</td>\n",
              "    </tr>\n",
              "    <tr>\n",
              "      <th>1</th>\n",
              "      <td>30.286711</td>\n",
              "      <td>43.894998</td>\n",
              "      <td>0</td>\n",
              "    </tr>\n",
              "    <tr>\n",
              "      <th>2</th>\n",
              "      <td>35.847409</td>\n",
              "      <td>72.902198</td>\n",
              "      <td>0</td>\n",
              "    </tr>\n",
              "    <tr>\n",
              "      <th>3</th>\n",
              "      <td>60.182599</td>\n",
              "      <td>86.308552</td>\n",
              "      <td>1</td>\n",
              "    </tr>\n",
              "    <tr>\n",
              "      <th>4</th>\n",
              "      <td>79.032736</td>\n",
              "      <td>75.344376</td>\n",
              "      <td>1</td>\n",
              "    </tr>\n",
              "  </tbody>\n",
              "</table>\n",
              "</div>\n",
              "      <button class=\"colab-df-convert\" onclick=\"convertToInteractive('df-05eab378-ad14-44ac-9d6e-afb3784ce9c5')\"\n",
              "              title=\"Convert this dataframe to an interactive table.\"\n",
              "              style=\"display:none;\">\n",
              "        \n",
              "  <svg xmlns=\"http://www.w3.org/2000/svg\" height=\"24px\"viewBox=\"0 0 24 24\"\n",
              "       width=\"24px\">\n",
              "    <path d=\"M0 0h24v24H0V0z\" fill=\"none\"/>\n",
              "    <path d=\"M18.56 5.44l.94 2.06.94-2.06 2.06-.94-2.06-.94-.94-2.06-.94 2.06-2.06.94zm-11 1L8.5 8.5l.94-2.06 2.06-.94-2.06-.94L8.5 2.5l-.94 2.06-2.06.94zm10 10l.94 2.06.94-2.06 2.06-.94-2.06-.94-.94-2.06-.94 2.06-2.06.94z\"/><path d=\"M17.41 7.96l-1.37-1.37c-.4-.4-.92-.59-1.43-.59-.52 0-1.04.2-1.43.59L10.3 9.45l-7.72 7.72c-.78.78-.78 2.05 0 2.83L4 21.41c.39.39.9.59 1.41.59.51 0 1.02-.2 1.41-.59l7.78-7.78 2.81-2.81c.8-.78.8-2.07 0-2.86zM5.41 20L4 18.59l7.72-7.72 1.47 1.35L5.41 20z\"/>\n",
              "  </svg>\n",
              "      </button>\n",
              "      \n",
              "  <style>\n",
              "    .colab-df-container {\n",
              "      display:flex;\n",
              "      flex-wrap:wrap;\n",
              "      gap: 12px;\n",
              "    }\n",
              "\n",
              "    .colab-df-convert {\n",
              "      background-color: #E8F0FE;\n",
              "      border: none;\n",
              "      border-radius: 50%;\n",
              "      cursor: pointer;\n",
              "      display: none;\n",
              "      fill: #1967D2;\n",
              "      height: 32px;\n",
              "      padding: 0 0 0 0;\n",
              "      width: 32px;\n",
              "    }\n",
              "\n",
              "    .colab-df-convert:hover {\n",
              "      background-color: #E2EBFA;\n",
              "      box-shadow: 0px 1px 2px rgba(60, 64, 67, 0.3), 0px 1px 3px 1px rgba(60, 64, 67, 0.15);\n",
              "      fill: #174EA6;\n",
              "    }\n",
              "\n",
              "    [theme=dark] .colab-df-convert {\n",
              "      background-color: #3B4455;\n",
              "      fill: #D2E3FC;\n",
              "    }\n",
              "\n",
              "    [theme=dark] .colab-df-convert:hover {\n",
              "      background-color: #434B5C;\n",
              "      box-shadow: 0px 1px 3px 1px rgba(0, 0, 0, 0.15);\n",
              "      filter: drop-shadow(0px 1px 2px rgba(0, 0, 0, 0.3));\n",
              "      fill: #FFFFFF;\n",
              "    }\n",
              "  </style>\n",
              "\n",
              "      <script>\n",
              "        const buttonEl =\n",
              "          document.querySelector('#df-05eab378-ad14-44ac-9d6e-afb3784ce9c5 button.colab-df-convert');\n",
              "        buttonEl.style.display =\n",
              "          google.colab.kernel.accessAllowed ? 'block' : 'none';\n",
              "\n",
              "        async function convertToInteractive(key) {\n",
              "          const element = document.querySelector('#df-05eab378-ad14-44ac-9d6e-afb3784ce9c5');\n",
              "          const dataTable =\n",
              "            await google.colab.kernel.invokeFunction('convertToInteractive',\n",
              "                                                     [key], {});\n",
              "          if (!dataTable) return;\n",
              "\n",
              "          const docLinkHtml = 'Like what you see? Visit the ' +\n",
              "            '<a target=\"_blank\" href=https://colab.research.google.com/notebooks/data_table.ipynb>data table notebook</a>'\n",
              "            + ' to learn more about interactive tables.';\n",
              "          element.innerHTML = '';\n",
              "          dataTable['output_type'] = 'display_data';\n",
              "          await google.colab.output.renderOutput(dataTable, element);\n",
              "          const docLink = document.createElement('div');\n",
              "          docLink.innerHTML = docLinkHtml;\n",
              "          element.appendChild(docLink);\n",
              "        }\n",
              "      </script>\n",
              "    </div>\n",
              "  </div>\n",
              "  "
            ]
          },
          "metadata": {},
          "execution_count": 189
        }
      ]
    },
    {
      "cell_type": "code",
      "source": [
        "sns.scatterplot(data=data1, x=\"X1\", y=\"X2\", hue=\"y\")\n",
        "plt.xlabel('Exam 1 score')\n",
        "plt.ylabel('Exam 2 score')\n",
        "plt.title('Scatter plot of training data')"
      ],
      "metadata": {
        "colab": {
          "base_uri": "https://localhost:8080/",
          "height": 312
        },
        "id": "5aGDx443qK-c",
        "outputId": "4aa7f441-e58e-454c-a4ac-b7c703929605"
      },
      "execution_count": 190,
      "outputs": [
        {
          "output_type": "execute_result",
          "data": {
            "text/plain": [
              "Text(0.5, 1.0, 'Scatter plot of training data')"
            ]
          },
          "metadata": {},
          "execution_count": 190
        },
        {
          "output_type": "display_data",
          "data": {
            "text/plain": [
              "<Figure size 432x288 with 1 Axes>"
            ],
            "image/png": "[encoded data removed]"
          },
          "metadata": {
            "needs_background": "light"
          }
        }
      ]
    },
    {
      "cell_type": "code",
      "source": [
        "def sigmoid(X, theta):\n",
        "  return 1/(1 + np.exp(-X.dot(theta)))\n",
        "\n",
        "def cost_function(X, theta, y):\n",
        "  m = X.shape[0]\n",
        "  cost = 1/m * (np.sum(-y*np.log(sigmoid(X, theta)) - \n",
        "                            (1 - y)*(np.log(1 - sigmoid(X, theta)))))\n",
        "  return cost"
      ],
      "metadata": {
        "id": "ZULRpzdlq9gq"
      },
      "execution_count": 191,
      "outputs": []
    },
    {
      "cell_type": "code",
      "source": [
        "X = data1.copy()\n",
        "X.insert(0, '1', 1)\n",
        "y = X.pop('y')\n",
        "X_np = X.to_numpy()\n",
        "y_np = y.to_numpy()"
      ],
      "metadata": {
        "id": "__u_vyfHshfD"
      },
      "execution_count": 192,
      "outputs": []
    },
    {
      "cell_type": "code",
      "source": [
        "theta = np.zeros(X.shape[1])\n",
        "theta"
      ],
      "metadata": {
        "colab": {
          "base_uri": "https://localhost:8080/"
        },
        "id": "MQ51zrtWsakb",
        "outputId": "76e924fe-ed9e-4669-a537-1c7ea07c291e"
      },
      "execution_count": 193,
      "outputs": [
        {
          "output_type": "execute_result",
          "data": {
            "text/plain": [
              "array([0., 0., 0.])"
            ]
          },
          "metadata": {},
          "execution_count": 193
        }
      ]
    },
    {
      "cell_type": "code",
      "source": [
        "print(cost_function(X_np, theta, y_np))"
      ],
      "metadata": {
        "colab": {
          "base_uri": "https://localhost:8080/"
        },
        "id": "Vj5FbMVss15e",
        "outputId": "cb3b3174-092c-4dc1-ace7-68a3d37765ef"
      },
      "execution_count": 194,
      "outputs": [
        {
          "output_type": "stream",
          "name": "stdout",
          "text": [
            "0.6931471805599453\n"
          ]
        }
      ]
    },
    {
      "cell_type": "code",
      "source": [
        "def gradient_descent(X, theta, y, num_iter, lr = 1e-10):\n",
        "  m = X.shape[0]\n",
        "  theta = np.zeros(X.shape[1])\n",
        "  learning_rate = lr\n",
        "  grad_array = []\n",
        "  for i in range(num_iter):\n",
        "    theta = theta - learning_rate * 1/m * np.transpose(X).dot(sigmoid(X, theta) - y)\n",
        "    grad_array.append(cost_function(X_np, theta, y_np))\n",
        "  return theta, grad_array"
      ],
      "metadata": {
        "id": "MLdzfwRAs6lf"
      },
      "execution_count": 195,
      "outputs": []
    },
    {
      "cell_type": "code",
      "source": [
        "theta, grad_array = gradient_descent(X_np, theta, y_np, 250000, 1e-3)"
      ],
      "metadata": {
        "id": "GATJBcmKvJLR"
      },
      "execution_count": 203,
      "outputs": []
    },
    {
      "cell_type": "code",
      "source": [
        "plt.plot(grad_array)\n",
        "plt.grid()\n",
        "plt.xlabel('Number of iterations')\n",
        "plt.ylabel('Cost function')\n",
        "plt.title('Gradient descent convergence')"
      ],
      "metadata": {
        "colab": {
          "base_uri": "https://localhost:8080/",
          "height": 312
        },
        "id": "y-EU1ntZvO9k",
        "outputId": "7c8bb948-e5b3-450f-c9be-8275643b4219"
      },
      "execution_count": 204,
      "outputs": [
        {
          "output_type": "execute_result",
          "data": {
            "text/plain": [
              "Text(0.5, 1.0, 'Gradient descent convergence')"
            ]
          },
          "metadata": {},
          "execution_count": 204
        },
        {
          "output_type": "display_data",
          "data": {
            "text/plain": [
              "<Figure size 432x288 with 1 Axes>"
            ],
            "image/png": "[encoded data removed]"
          },
          "metadata": {
            "needs_background": "light"
          }
        }
      ]
    },
    {
      "cell_type": "code",
      "source": [
        "plt.figure(figsize=(10,5))\n",
        "sns.scatterplot(data=data1, x=\"X1\", y=\"X2\", hue=\"y\")\n",
        "plot_y = (-1/theta[2])*(theta[1]*data1['X1'] + theta[0])\n",
        "sns.lineplot(data1[\"X1\"], plot_y, label='Decision boundary')\n",
        "plt.xlabel('Exam 1 score')\n",
        "plt.ylabel('Exam 2 score')\n",
        "plt.title('Scatter plot of training data')"
      ],
      "metadata": {
        "colab": {
          "base_uri": "https://localhost:8080/",
          "height": 422
        },
        "id": "y6bI3q3XxDOV",
        "outputId": "9460e4e6-803e-4e67-c682-b7a1307f524b"
      },
      "execution_count": 205,
      "outputs": [
        {
          "output_type": "stream",
          "name": "stderr",
          "text": [
            "/usr/local/lib/python3.7/dist-packages/seaborn/_decorators.py:43: FutureWarning: Pass the following variables as keyword args: x, y. From version 0.12, the only valid positional argument will be `data`, and passing other arguments without an explicit keyword will result in an error or misinterpretation.\n",
            "  FutureWarning\n"
          ]
        },
        {
          "output_type": "execute_result",
          "data": {
            "text/plain": [
              "Text(0.5, 1.0, 'Scatter plot of training data')"
            ]
          },
          "metadata": {},
          "execution_count": 205
        },
        {
          "output_type": "display_data",
          "data": {
            "text/plain": [
              "<Figure size 720x360 with 1 Axes>"
            ],
            "image/png": "[encoded data removed]"
          },
          "metadata": {
            "needs_background": "light"
          }
        }
      ]
    },
    {
      "cell_type": "code",
      "source": [
        "print('Best value of the cost function:', cost_function(X_np, theta, y_np))\n",
        "print('Sigmoid values: \\n', sigmoid(X_np, theta))"
      ],
      "metadata": {
        "colab": {
          "base_uri": "https://localhost:8080/"
        },
        "id": "JaXuX8nxzWFB",
        "outputId": "956d7e53-af89-459f-b9b1-3ac76341a530"
      },
      "execution_count": 206,
      "outputs": [
        {
          "output_type": "stream",
          "name": "stdout",
          "text": [
            "Best value of the cost function: 0.29758812655556566\n",
            "Sigmoid values: \n",
            " [0.33416666 0.03618484 0.2805868  0.84953014 0.91508819 0.20220366\n",
            " 0.92264376 0.54106641 0.95112011 0.65718583 0.75621821 0.28908483\n",
            " 0.93658634 0.95941167 0.38632637 0.81309789 0.53543918 0.41475817\n",
            " 0.94969816 0.59280923 0.34470083 0.92544963 0.18668955 0.04859545\n",
            " 0.86662863 0.68847342 0.605066   0.72505076 0.36521795 0.22200082\n",
            " 0.71465487 0.83524506 0.40011366 0.50272333 0.32378819 0.27927246\n",
            " 0.65675265 0.84060222 0.45395583 0.2875314  0.81212504 0.17785124\n",
            " 0.94541133 0.57579565 0.1629505  0.40041222 0.87181772 0.98907795\n",
            " 0.92868172 0.98498619 0.91414221 0.94784564 0.74801945 0.13329042\n",
            " 0.1936373  0.30777166 0.96461331 0.582473   0.84019682 0.88654169\n",
            " 0.94300708 0.06247558 0.15531723 0.05122469 0.32581996 0.30615697\n",
            " 0.73846289 0.20154751 0.97306258 0.627708   0.04135137 0.81166212\n",
            " 0.96378285 0.70472638 0.71829404 0.97584425 0.71734655 0.57935755\n",
            " 0.23687343 0.60713798 0.93877855 0.82564353 0.71860116 0.43266763\n",
            " 0.97114585 0.90794943 0.47748667 0.95783965 0.97744405 0.36709525\n",
            " 0.97338137 0.98241346 0.11962339 0.93578545 0.76279518 0.71198066\n",
            " 0.61638784 0.96837429 0.4878858  0.95312431]\n"
          ]
        }
      ]
    },
    {
      "cell_type": "code",
      "source": [
        "def predict(X_np, theta):\n",
        "  return np.array([1 if x >=0.5 else 0 for x in sigmoid(X_np, theta)])"
      ],
      "metadata": {
        "id": "VDExZtTHY8NY"
      },
      "execution_count": 207,
      "outputs": []
    },
    {
      "cell_type": "code",
      "source": [
        "def evaluation_score(X_np, theta, y_np):\n",
        "  predictions = predict(X_np, theta)\n",
        "  result = np.mean(predictions == y_np)\n",
        "  return result"
      ],
      "metadata": {
        "id": "74Ph0wpOZb-a"
      },
      "execution_count": 208,
      "outputs": []
    },
    {
      "cell_type": "code",
      "source": [
        "print('Accuracy:', evaluation_score(X_np, theta, y_np) * 100, '%')"
      ],
      "metadata": {
        "colab": {
          "base_uri": "https://localhost:8080/"
        },
        "id": "wHokrYQbZaim",
        "outputId": "80a43f4d-63a9-4df0-8c3c-b8a8fe7febad"
      },
      "execution_count": 209,
      "outputs": [
        {
          "output_type": "stream",
          "name": "stdout",
          "text": [
            "Accuracy: 92.0 %\n"
          ]
        }
      ]
    },
    {
      "cell_type": "markdown",
      "source": [
        "# Regularized logistic regression + feature mapping"
      ],
      "metadata": {
        "id": "EoCDcCKikzls"
      }
    },
    {
      "cell_type": "code",
      "source": [
        "data2 = pd.read_csv('ex2data2.csv', header=None, names=['X1', 'X2', 'y'])"
      ],
      "metadata": {
        "id": "dJlHtos6zkzo"
      },
      "execution_count": 210,
      "outputs": []
    },
    {
      "cell_type": "code",
      "source": [
        "data2.head()"
      ],
      "metadata": {
        "colab": {
          "base_uri": "https://localhost:8080/",
          "height": 206
        },
        "id": "A_Bn5Mn50xni",
        "outputId": "a28e88ec-ed34-4d53-bf2f-164185168f9e"
      },
      "execution_count": 211,
      "outputs": [
        {
          "output_type": "execute_result",
          "data": {
            "text/plain": [
              "         X1       X2  y\n",
              "0  0.051267  0.69956  1\n",
              "1 -0.092742  0.68494  1\n",
              "2 -0.213710  0.69225  1\n",
              "3 -0.375000  0.50219  1\n",
              "4 -0.513250  0.46564  1"
            ],
            "text/html": [
              "\n",
              "  <div id=\"df-0a862d34-a26a-439c-ad2f-ef61c7f9041e\">\n",
              "    <div class=\"colab-df-container\">\n",
              "      <div>\n",
              "<style scoped>\n",
              "    .dataframe tbody tr th:only-of-type {\n",
              "        vertical-align: middle;\n",
              "    }\n",
              "\n",
              "    .dataframe tbody tr th {\n",
              "        vertical-align: top;\n",
              "    }\n",
              "\n",
              "    .dataframe thead th {\n",
              "        text-align: right;\n",
              "    }\n",
              "</style>\n",
              "<table border=\"1\" class=\"dataframe\">\n",
              "  <thead>\n",
              "    <tr style=\"text-align: right;\">\n",
              "      <th></th>\n",
              "      <th>X1</th>\n",
              "      <th>X2</th>\n",
              "      <th>y</th>\n",
              "    </tr>\n",
              "  </thead>\n",
              "  <tbody>\n",
              "    <tr>\n",
              "      <th>0</th>\n",
              "      <td>0.051267</td>\n",
              "      <td>0.69956</td>\n",
              "      <td>1</td>\n",
              "    </tr>\n",
              "    <tr>\n",
              "      <th>1</th>\n",
              "      <td>-0.092742</td>\n",
              "      <td>0.68494</td>\n",
              "      <td>1</td>\n",
              "    </tr>\n",
              "    <tr>\n",
              "      <th>2</th>\n",
              "      <td>-0.213710</td>\n",
              "      <td>0.69225</td>\n",
              "      <td>1</td>\n",
              "    </tr>\n",
              "    <tr>\n",
              "      <th>3</th>\n",
              "      <td>-0.375000</td>\n",
              "      <td>0.50219</td>\n",
              "      <td>1</td>\n",
              "    </tr>\n",
              "    <tr>\n",
              "      <th>4</th>\n",
              "      <td>-0.513250</td>\n",
              "      <td>0.46564</td>\n",
              "      <td>1</td>\n",
              "    </tr>\n",
              "  </tbody>\n",
              "</table>\n",
              "</div>\n",
              "      <button class=\"colab-df-convert\" onclick=\"convertToInteractive('df-0a862d34-a26a-439c-ad2f-ef61c7f9041e')\"\n",
              "              title=\"Convert this dataframe to an interactive table.\"\n",
              "              style=\"display:none;\">\n",
              "        \n",
              "  <svg xmlns=\"http://www.w3.org/2000/svg\" height=\"24px\"viewBox=\"0 0 24 24\"\n",
              "       width=\"24px\">\n",
              "    <path d=\"M0 0h24v24H0V0z\" fill=\"none\"/>\n",
              "    <path d=\"M18.56 5.44l.94 2.06.94-2.06 2.06-.94-2.06-.94-.94-2.06-.94 2.06-2.06.94zm-11 1L8.5 8.5l.94-2.06 2.06-.94-2.06-.94L8.5 2.5l-.94 2.06-2.06.94zm10 10l.94 2.06.94-2.06 2.06-.94-2.06-.94-.94-2.06-.94 2.06-2.06.94z\"/><path d=\"M17.41 7.96l-1.37-1.37c-.4-.4-.92-.59-1.43-.59-.52 0-1.04.2-1.43.59L10.3 9.45l-7.72 7.72c-.78.78-.78 2.05 0 2.83L4 21.41c.39.39.9.59 1.41.59.51 0 1.02-.2 1.41-.59l7.78-7.78 2.81-2.81c.8-.78.8-2.07 0-2.86zM5.41 20L4 18.59l7.72-7.72 1.47 1.35L5.41 20z\"/>\n",
              "  </svg>\n",
              "      </button>\n",
              "      \n",
              "  <style>\n",
              "    .colab-df-container {\n",
              "      display:flex;\n",
              "      flex-wrap:wrap;\n",
              "      gap: 12px;\n",
              "    }\n",
              "\n",
              "    .colab-df-convert {\n",
              "      background-color: #E8F0FE;\n",
              "      border: none;\n",
              "      border-radius: 50%;\n",
              "      cursor: pointer;\n",
              "      display: none;\n",
              "      fill: #1967D2;\n",
              "      height: 32px;\n",
              "      padding: 0 0 0 0;\n",
              "      width: 32px;\n",
              "    }\n",
              "\n",
              "    .colab-df-convert:hover {\n",
              "      background-color: #E2EBFA;\n",
              "      box-shadow: 0px 1px 2px rgba(60, 64, 67, 0.3), 0px 1px 3px 1px rgba(60, 64, 67, 0.15);\n",
              "      fill: #174EA6;\n",
              "    }\n",
              "\n",
              "    [theme=dark] .colab-df-convert {\n",
              "      background-color: #3B4455;\n",
              "      fill: #D2E3FC;\n",
              "    }\n",
              "\n",
              "    [theme=dark] .colab-df-convert:hover {\n",
              "      background-color: #434B5C;\n",
              "      box-shadow: 0px 1px 3px 1px rgba(0, 0, 0, 0.15);\n",
              "      filter: drop-shadow(0px 1px 2px rgba(0, 0, 0, 0.3));\n",
              "      fill: #FFFFFF;\n",
              "    }\n",
              "  </style>\n",
              "\n",
              "      <script>\n",
              "        const buttonEl =\n",
              "          document.querySelector('#df-0a862d34-a26a-439c-ad2f-ef61c7f9041e button.colab-df-convert');\n",
              "        buttonEl.style.display =\n",
              "          google.colab.kernel.accessAllowed ? 'block' : 'none';\n",
              "\n",
              "        async function convertToInteractive(key) {\n",
              "          const element = document.querySelector('#df-0a862d34-a26a-439c-ad2f-ef61c7f9041e');\n",
              "          const dataTable =\n",
              "            await google.colab.kernel.invokeFunction('convertToInteractive',\n",
              "                                                     [key], {});\n",
              "          if (!dataTable) return;\n",
              "\n",
              "          const docLinkHtml = 'Like what you see? Visit the ' +\n",
              "            '<a target=\"_blank\" href=https://colab.research.google.com/notebooks/data_table.ipynb>data table notebook</a>'\n",
              "            + ' to learn more about interactive tables.';\n",
              "          element.innerHTML = '';\n",
              "          dataTable['output_type'] = 'display_data';\n",
              "          await google.colab.output.renderOutput(dataTable, element);\n",
              "          const docLink = document.createElement('div');\n",
              "          docLink.innerHTML = docLinkHtml;\n",
              "          element.appendChild(docLink);\n",
              "        }\n",
              "      </script>\n",
              "    </div>\n",
              "  </div>\n",
              "  "
            ]
          },
          "metadata": {},
          "execution_count": 211
        }
      ]
    },
    {
      "cell_type": "code",
      "source": [
        "X = data2.copy()\n",
        "X.insert(0, '1', 1)\n",
        "y = X.pop('y')"
      ],
      "metadata": {
        "id": "Y5mXJAU03_-8"
      },
      "execution_count": 212,
      "outputs": []
    },
    {
      "cell_type": "code",
      "source": [
        "sns.scatterplot(data=data2, x=\"X1\", y=\"X2\", hue=\"y\")\n",
        "plt.xlabel('Microchip Test 1')\n",
        "plt.ylabel('Microchip Test 2')\n",
        "plt.title('Scatter plot of training data')"
      ],
      "metadata": {
        "colab": {
          "base_uri": "https://localhost:8080/",
          "height": 312
        },
        "id": "znB0WJvn0v2j",
        "outputId": "b53bf20e-627d-40de-ca01-6d0c8502b3f7"
      },
      "execution_count": 213,
      "outputs": [
        {
          "output_type": "execute_result",
          "data": {
            "text/plain": [
              "Text(0.5, 1.0, 'Scatter plot of training data')"
            ]
          },
          "metadata": {},
          "execution_count": 213
        },
        {
          "output_type": "display_data",
          "data": {
            "text/plain": [
              "<Figure size 432x288 with 1 Axes>"
            ],
            "image/png": "[encoded data removed]"
          },
          "metadata": {
            "needs_background": "light"
          }
        }
      ]
    },
    {
      "cell_type": "markdown",
      "source": [
        "### Feature mapping"
      ],
      "metadata": {
        "id": "S5Djw_Tr3mNc"
      }
    },
    {
      "cell_type": "markdown",
      "source": [
        "As we can see in the figure above, it is imposible to split two classes with a straigth line. The solution to this problem is to use feature mapping.\n",
        "\n",
        "For this task I will creare more features from each data point. To be more precise, I will map the features into all polynomial terms of $x_1$ and $x_2$ up to the sixth power.\n",
        "\n",
        "\\begin{align}\n",
        "    mapFeature(x) &= \\begin{bmatrix}\n",
        "           1 \\\\\n",
        "           x_{1} \\\\\n",
        "           x_{2} \\\\\n",
        "           x_{1}^{2} \\\\\n",
        "           x_{1} x_{2} \\\\\n",
        "           x_{2}^{2} \\\\\n",
        "           x_{1}^{3} \\\\\n",
        "           \\vdots \\\\\n",
        "           x_{1}x_{2}^{5} \\\\\n",
        "           x_{2}^{6}\n",
        "         \\end{bmatrix}\n",
        "  \\end{align}\n",
        "\n",
        "As a result of this mapping, the vector of two features has been transfromed into a 28-dimensional vector. A logistic\n",
        "regression classifier trained on this higher-dimension feature vector will have a more complex decision boundary and will appear nonlinear when drawn in\n",
        "our 2-dimensional plot."
      ],
      "metadata": {
        "id": "gD7qtxSf1Uax"
      }
    },
    {
      "cell_type": "code",
      "source": [
        "def feature_mapping(X1, X2, degree):\n",
        "    res = np.ones(X1.shape[0])\n",
        "    for i in range(1, degree+1):\n",
        "        for j in range(0, i+1):\n",
        "            res = np.column_stack((res, (X1 ** (i - j)) * (X2 ** j)))\n",
        "    return res"
      ],
      "metadata": {
        "id": "oT_FKb7R38G4"
      },
      "execution_count": 214,
      "outputs": []
    },
    {
      "cell_type": "markdown",
      "source": [
        "\n",
        "While the feature mapping allows us to build a more expressive classifier,\n",
        "it also more susceptible to overfitting. Here, the regularization comes to help."
      ],
      "metadata": {
        "id": "kAsZiGuB37Ob"
      }
    },
    {
      "cell_type": "markdown",
      "source": [
        "### Regularization"
      ],
      "metadata": {
        "id": "BbiD3ZRA3hsQ"
      }
    },
    {
      "cell_type": "markdown",
      "source": [
        "Let's recall the regularized cost function in logistic regression:\n",
        "\n",
        "\\begin{align}\n",
        "        J(\\theta)=\\frac{1}{m}\\sum_{i=1}^m[-y^{(i)}log(h_\\theta(x^{(i)})) - (1-y^{(i)})log(1-h_\\theta(x^{(i)}))] + \\frac{\\lambda}{2m}\\sum_{j=1}^n\\theta_j^2\n",
        "    \\end{align}\n",
        "\n",
        "The gradient of the cost function is a vector where the $j^{th}$ element is defined as follows:\n",
        "\\begin{align}\n",
        "\\frac{J(\\theta)}{\\partial\\theta_0} = \\frac{1}{m} \\sum_{i=1}^m(h_\\theta(x^{(i)}) - y^{(i)})x_j^{(i)}, \\ \\ \\ \\ \\ for \\ j=0\n",
        "  \\end{align}\n",
        "\n",
        "\\begin{align}\n",
        "\\frac{J(\\theta)}{\\partial\\theta_j} = \\frac{1}{m} \\sum_{i=1}^m(h_\\theta(x^{(i)}) - y^{(i)})x_j^{(i)} + \\frac{\\lambda}{m}\\theta_j, \\ \\ \\ \\ \\ for \\ j\\geq1\n",
        "  \\end{align}"
      ],
      "metadata": {
        "id": "W4Ibb5d1neTp"
      }
    },
    {
      "cell_type": "code",
      "source": [
        "def reg_cost_function(X, theta, y, reg_const):\n",
        "  m = X.shape[0]\n",
        "  cost = (1/m * (np.sum(-y*np.log(sigmoid(X, theta)) - \n",
        "                            (1 - y)*(np.log(1 - sigmoid(X, theta))))) + \n",
        "                            reg_const/(2*m)*sum(theta ** 2))\n",
        "  return cost"
      ],
      "metadata": {
        "id": "GEP0ZpX7k35c"
      },
      "execution_count": 215,
      "outputs": []
    },
    {
      "cell_type": "code",
      "source": [
        "def reg_gradient_descent(X, theta, y, reg_const, num_iter=500, lr = 1):\n",
        "  m = X.shape[0]\n",
        "  theta = np.zeros(X.shape[1])\n",
        "  learning_rate = lr\n",
        "  grad_array = []\n",
        "  tmp_array = np.ones(X.shape[1])\n",
        "  tmp_array[0] = 0\n",
        "  for i in range(num_iter):\n",
        "    theta = (theta * (1 - reg_const *  1/m * tmp_array) -  \n",
        "    learning_rate * 1/m * np.transpose(X).dot(sigmoid(X, theta) - y))\n",
        "    grad_array.append(reg_cost_function(X, theta, y, reg_const))\n",
        "  return theta, grad_array"
      ],
      "metadata": {
        "id": "GQ77ektRyjPW"
      },
      "execution_count": 216,
      "outputs": []
    },
    {
      "cell_type": "code",
      "source": [
        "degree = 6\n",
        "X_feature_map = feature_mapping(X['X1'], X['X2'], degree)"
      ],
      "metadata": {
        "id": "d6U3ERRb8ANZ"
      },
      "execution_count": 217,
      "outputs": []
    },
    {
      "cell_type": "code",
      "source": [
        "theta = np.zeros(X_feature_map.shape[1])\n",
        "X_np = X_feature_map\n",
        "y_np = y\n",
        "reg_const = 0\n",
        "reg_theta, reg_grad_array = reg_gradient_descent(X_np, theta, y_np, reg_const, num_iter=50000, lr=1e-2)"
      ],
      "metadata": {
        "id": "r6I1MLed8GtB"
      },
      "execution_count": 218,
      "outputs": []
    },
    {
      "cell_type": "code",
      "source": [
        "plt.plot(reg_grad_array)\n",
        "plt.grid()\n",
        "plt.xlabel('Number of iterations')\n",
        "plt.ylabel('Cost function')\n",
        "plt.title('Gradient descent convergence')"
      ],
      "metadata": {
        "colab": {
          "base_uri": "https://localhost:8080/",
          "height": 312
        },
        "id": "hbUy4Q6v8YOw",
        "outputId": "6b5aaf4e-5fd9-4051-85a8-b8876d21a565"
      },
      "execution_count": 219,
      "outputs": [
        {
          "output_type": "execute_result",
          "data": {
            "text/plain": [
              "Text(0.5, 1.0, 'Gradient descent convergence')"
            ]
          },
          "metadata": {},
          "execution_count": 219
        },
        {
          "output_type": "display_data",
          "data": {
            "text/plain": [
              "<Figure size 432x288 with 1 Axes>"
            ],
            "image/png": "[encoded data removed]"
          },
          "metadata": {
            "needs_background": "light"
          }
        }
      ]
    },
    {
      "cell_type": "code",
      "source": [
        "print('Accuracy:', evaluation_score(X_np, reg_theta, y_np) * 100, '%')"
      ],
      "metadata": {
        "colab": {
          "base_uri": "https://localhost:8080/"
        },
        "id": "mwGdyIL8-LmC",
        "outputId": "31f5f253-e798-4476-be96-3546cdf9568c"
      },
      "execution_count": 220,
      "outputs": [
        {
          "output_type": "stream",
          "name": "stdout",
          "text": [
            "Accuracy: 83.05084745762711 %\n"
          ]
        }
      ]
    },
    {
      "cell_type": "code",
      "source": [
        "def plotDecisionBoundary(theta, degree, axes):\n",
        "    u = np.linspace(-1, 1.5, 50)\n",
        "    v = np.linspace(-1, 1.5, 50)\n",
        "    U, V = np.meshgrid(u, v)\n",
        "    U = np.ravel(U)\n",
        "    V = np.ravel(V)\n",
        "    Z = np.zeros((len(u) * len(v)))\n",
        "    X_poly = feature_mapping(U, V, degree)\n",
        "    Z = X_poly.dot(theta)\n",
        "    U = U.reshape((len(u), len(v)))\n",
        "    V = V.reshape((len(u), len(v)))\n",
        "    Z = Z.reshape((len(u), len(v)))\n",
        "    \n",
        "    cs = axes.contour(U, V, Z, levels=[0])\n",
        "    return cs"
      ],
      "metadata": {
        "id": "M3WEXB6uj4RH"
      },
      "execution_count": 221,
      "outputs": []
    },
    {
      "cell_type": "code",
      "source": [
        "fig, axes = plt.subplots()\n",
        "axes.set_xlabel('Feature 1')\n",
        "axes.set_ylabel('Feature 2')\n",
        "sns.scatterplot(data=data2, x=\"X1\", y=\"X2\", hue=\"y\", ax=axes)\n",
        "plt.xlabel('Microchip Test 1')\n",
        "plt.ylabel('Microchip Test 2')\n",
        "plt.title('Scatter plot of training data')\n",
        "plotDecisionBoundary(reg_theta, degree, axes)\n",
        "# plt.savefig('underfitting.png')"
      ],
      "metadata": {
        "colab": {
          "base_uri": "https://localhost:8080/",
          "height": 312
        },
        "id": "LK0zQHFJkcBi",
        "outputId": "f47489ca-f2cd-49e6-d23b-0e9bee93b6e5"
      },
      "execution_count": 223,
      "outputs": [
        {
          "output_type": "execute_result",
          "data": {
            "text/plain": [
              "<matplotlib.contour.QuadContourSet at 0x7fc423b8a5d0>"
            ]
          },
          "metadata": {},
          "execution_count": 223
        },
        {
          "output_type": "display_data",
          "data": {
            "text/plain": [
              "<Figure size 432x288 with 1 Axes>"
            ],
            "image/png": "[encoded data removed]"
          },
          "metadata": {
            "needs_background": "light"
          }
        }
      ]
    },
    {
      "cell_type": "code",
      "source": [
        ""
      ],
      "metadata": {
        "id": "M4uNFAIouamL"
      },
      "execution_count": null,
      "outputs": []
    }
  ]
}