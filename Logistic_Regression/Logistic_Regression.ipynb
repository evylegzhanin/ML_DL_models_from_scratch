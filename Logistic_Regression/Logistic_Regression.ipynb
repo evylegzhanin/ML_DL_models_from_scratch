{
  "nbformat": 4,
  "nbformat_minor": 0,
  "metadata": {
    "colab": {
      "name": "Logistic_Regression.ipynb",
      "provenance": []
    },
    "kernelspec": {
      "name": "python3",
      "display_name": "Python 3"
    },
    "language_info": {
      "name": "python"
    }
  },
  "cells": [
    {
      "cell_type": "markdown",
      "source": [
        "# Logistic regression for the binary classification problem"
      ],
      "metadata": {
        "id": "Lg4_26ygkhnx"
      }
    },
    {
      "cell_type": "markdown",
      "source": [
        "Let's start with some basic formula. \n",
        "\n",
        "Logistic regression hypothesis is defined as:\n",
        "\\begin{align}\n",
        "        h_\\theta(x)=g(\\theta^Tx)\n",
        "    \\end{align}\n",
        "where function $g$ is the sigmoid function:\n",
        "\\begin{align}\n",
        "        g(z)=\\frac{1}{1+e^{-z}}\n",
        "    \\end{align}\n",
        "There are many options for a cost function of the logistic regression, but I chose this one: \n",
        "\\begin{align}\n",
        "        J(\\theta)=\\frac{1}{m}\\sum_{i=1}^m[-y^{(i)}log(h_\\theta(x^{(i)})) - (1-y^{(i)})log(1-h_\\theta(x^{(i)}))]\n",
        "    \\end{align}\n",
        "The gradient of the cost is a vector of the same length as $\\theta$ where the $j^{th}$ element (for $j$ = 0,1,...,n) is defined as follows:\n",
        "\\begin{align}\n",
        "        \\frac{\\partial J(\\theta)}{\\partial\\theta_j}=\\frac{1}{m}\\sum_{i=1}^m(h_\\theta(x^{(i)})-y^{(i)})x_j^{(i)}\n",
        "    \\end{align}\n",
        "\n",
        "The gradient looks identical to the linear regression gradient, the formula is actually different because linear and logistic regression have different definitions of $h_\\theta(x)$."
      ],
      "metadata": {
        "id": "Vovnk7O7krjr"
      }
    },
    {
      "cell_type": "code",
      "source": [
        "import pandas as pd\n",
        "import numpy as np\n",
        "import seaborn as sns\n",
        "import matplotlib.pyplot as plt"
      ],
      "metadata": {
        "id": "WkOcoHaOoS3I"
      },
      "execution_count": 6,
      "outputs": []
    },
    {
      "cell_type": "code",
      "execution_count": 7,
      "metadata": {
        "id": "hZamm6jMkgv_"
      },
      "outputs": [],
      "source": [
        "data = pd.read_csv('ex2data1.csv', header=None, names=['X1', 'X2', 'y'])"
      ]
    },
    {
      "cell_type": "code",
      "source": [
        "data.head()"
      ],
      "metadata": {
        "colab": {
          "base_uri": "https://localhost:8080/",
          "height": 206
        },
        "id": "PXG92rs2qJ7M",
        "outputId": "318ec5e7-9b4d-41d9-d32e-60611a509d39"
      },
      "execution_count": 8,
      "outputs": [
        {
          "output_type": "execute_result",
          "data": {
            "text/plain": [
              "          X1         X2  y\n",
              "0  34.623660  78.024693  0\n",
              "1  30.286711  43.894998  0\n",
              "2  35.847409  72.902198  0\n",
              "3  60.182599  86.308552  1\n",
              "4  79.032736  75.344376  1"
            ],
            "text/html": [
              "\n",
              "  <div id=\"df-375731b0-ccd7-4f86-8e4d-4926b7b16048\">\n",
              "    <div class=\"colab-df-container\">\n",
              "      <div>\n",
              "<style scoped>\n",
              "    .dataframe tbody tr th:only-of-type {\n",
              "        vertical-align: middle;\n",
              "    }\n",
              "\n",
              "    .dataframe tbody tr th {\n",
              "        vertical-align: top;\n",
              "    }\n",
              "\n",
              "    .dataframe thead th {\n",
              "        text-align: right;\n",
              "    }\n",
              "</style>\n",
              "<table border=\"1\" class=\"dataframe\">\n",
              "  <thead>\n",
              "    <tr style=\"text-align: right;\">\n",
              "      <th></th>\n",
              "      <th>X1</th>\n",
              "      <th>X2</th>\n",
              "      <th>y</th>\n",
              "    </tr>\n",
              "  </thead>\n",
              "  <tbody>\n",
              "    <tr>\n",
              "      <th>0</th>\n",
              "      <td>34.623660</td>\n",
              "      <td>78.024693</td>\n",
              "      <td>0</td>\n",
              "    </tr>\n",
              "    <tr>\n",
              "      <th>1</th>\n",
              "      <td>30.286711</td>\n",
              "      <td>43.894998</td>\n",
              "      <td>0</td>\n",
              "    </tr>\n",
              "    <tr>\n",
              "      <th>2</th>\n",
              "      <td>35.847409</td>\n",
              "      <td>72.902198</td>\n",
              "      <td>0</td>\n",
              "    </tr>\n",
              "    <tr>\n",
              "      <th>3</th>\n",
              "      <td>60.182599</td>\n",
              "      <td>86.308552</td>\n",
              "      <td>1</td>\n",
              "    </tr>\n",
              "    <tr>\n",
              "      <th>4</th>\n",
              "      <td>79.032736</td>\n",
              "      <td>75.344376</td>\n",
              "      <td>1</td>\n",
              "    </tr>\n",
              "  </tbody>\n",
              "</table>\n",
              "</div>\n",
              "      <button class=\"colab-df-convert\" onclick=\"convertToInteractive('df-375731b0-ccd7-4f86-8e4d-4926b7b16048')\"\n",
              "              title=\"Convert this dataframe to an interactive table.\"\n",
              "              style=\"display:none;\">\n",
              "        \n",
              "  <svg xmlns=\"http://www.w3.org/2000/svg\" height=\"24px\"viewBox=\"0 0 24 24\"\n",
              "       width=\"24px\">\n",
              "    <path d=\"M0 0h24v24H0V0z\" fill=\"none\"/>\n",
              "    <path d=\"M18.56 5.44l.94 2.06.94-2.06 2.06-.94-2.06-.94-.94-2.06-.94 2.06-2.06.94zm-11 1L8.5 8.5l.94-2.06 2.06-.94-2.06-.94L8.5 2.5l-.94 2.06-2.06.94zm10 10l.94 2.06.94-2.06 2.06-.94-2.06-.94-.94-2.06-.94 2.06-2.06.94z\"/><path d=\"M17.41 7.96l-1.37-1.37c-.4-.4-.92-.59-1.43-.59-.52 0-1.04.2-1.43.59L10.3 9.45l-7.72 7.72c-.78.78-.78 2.05 0 2.83L4 21.41c.39.39.9.59 1.41.59.51 0 1.02-.2 1.41-.59l7.78-7.78 2.81-2.81c.8-.78.8-2.07 0-2.86zM5.41 20L4 18.59l7.72-7.72 1.47 1.35L5.41 20z\"/>\n",
              "  </svg>\n",
              "      </button>\n",
              "      \n",
              "  <style>\n",
              "    .colab-df-container {\n",
              "      display:flex;\n",
              "      flex-wrap:wrap;\n",
              "      gap: 12px;\n",
              "    }\n",
              "\n",
              "    .colab-df-convert {\n",
              "      background-color: #E8F0FE;\n",
              "      border: none;\n",
              "      border-radius: 50%;\n",
              "      cursor: pointer;\n",
              "      display: none;\n",
              "      fill: #1967D2;\n",
              "      height: 32px;\n",
              "      padding: 0 0 0 0;\n",
              "      width: 32px;\n",
              "    }\n",
              "\n",
              "    .colab-df-convert:hover {\n",
              "      background-color: #E2EBFA;\n",
              "      box-shadow: 0px 1px 2px rgba(60, 64, 67, 0.3), 0px 1px 3px 1px rgba(60, 64, 67, 0.15);\n",
              "      fill: #174EA6;\n",
              "    }\n",
              "\n",
              "    [theme=dark] .colab-df-convert {\n",
              "      background-color: #3B4455;\n",
              "      fill: #D2E3FC;\n",
              "    }\n",
              "\n",
              "    [theme=dark] .colab-df-convert:hover {\n",
              "      background-color: #434B5C;\n",
              "      box-shadow: 0px 1px 3px 1px rgba(0, 0, 0, 0.15);\n",
              "      filter: drop-shadow(0px 1px 2px rgba(0, 0, 0, 0.3));\n",
              "      fill: #FFFFFF;\n",
              "    }\n",
              "  </style>\n",
              "\n",
              "      <script>\n",
              "        const buttonEl =\n",
              "          document.querySelector('#df-375731b0-ccd7-4f86-8e4d-4926b7b16048 button.colab-df-convert');\n",
              "        buttonEl.style.display =\n",
              "          google.colab.kernel.accessAllowed ? 'block' : 'none';\n",
              "\n",
              "        async function convertToInteractive(key) {\n",
              "          const element = document.querySelector('#df-375731b0-ccd7-4f86-8e4d-4926b7b16048');\n",
              "          const dataTable =\n",
              "            await google.colab.kernel.invokeFunction('convertToInteractive',\n",
              "                                                     [key], {});\n",
              "          if (!dataTable) return;\n",
              "\n",
              "          const docLinkHtml = 'Like what you see? Visit the ' +\n",
              "            '<a target=\"_blank\" href=https://colab.research.google.com/notebooks/data_table.ipynb>data table notebook</a>'\n",
              "            + ' to learn more about interactive tables.';\n",
              "          element.innerHTML = '';\n",
              "          dataTable['output_type'] = 'display_data';\n",
              "          await google.colab.output.renderOutput(dataTable, element);\n",
              "          const docLink = document.createElement('div');\n",
              "          docLink.innerHTML = docLinkHtml;\n",
              "          element.appendChild(docLink);\n",
              "        }\n",
              "      </script>\n",
              "    </div>\n",
              "  </div>\n",
              "  "
            ]
          },
          "metadata": {},
          "execution_count": 8
        }
      ]
    },
    {
      "cell_type": "code",
      "source": [
        "sns.scatterplot(data=data, x=\"X1\", y=\"X2\", hue=\"y\")\n",
        "plt.xlabel('Exam 1 score')\n",
        "plt.ylabel('Exam 2 score')\n",
        "plt.title('Scatter plot of training data')"
      ],
      "metadata": {
        "colab": {
          "base_uri": "https://localhost:8080/",
          "height": 312
        },
        "id": "5aGDx443qK-c",
        "outputId": "1c878295-243b-42c8-ebfa-75f54e772a36"
      },
      "execution_count": 9,
      "outputs": [
        {
          "output_type": "execute_result",
          "data": {
            "text/plain": [
              "Text(0.5, 1.0, 'Scatter plot of training data')"
            ]
          },
          "metadata": {},
          "execution_count": 9
        },
        {
          "output_type": "display_data",
          "data": {
            "text/plain": [
              "<Figure size 432x288 with 1 Axes>"
            ],
            "image/png": "[encoded data removed]"
          },
          "metadata": {
            "needs_background": "light"
          }
        }
      ]
    },
    {
      "cell_type": "code",
      "source": [
        "def sigmoid(X, theta):\n",
        "  return 1/(1 + np.exp(-X.dot(theta)))\n",
        "\n",
        "def cost_function(X, theta, y):\n",
        "  m = X.shape[0]\n",
        "  cost = 1/m * (np.sum(-y*np.log(sigmoid(X, theta)) - \n",
        "                            (1 - y)*(np.log(1 - sigmoid(X, theta)))))\n",
        "  return cost"
      ],
      "metadata": {
        "id": "ZULRpzdlq9gq"
      },
      "execution_count": 10,
      "outputs": []
    },
    {
      "cell_type": "code",
      "source": [
        "X = data.copy()\n",
        "X.insert(0, '1', 1)\n",
        "y = X.pop('y')\n",
        "X_np = X.to_numpy()\n",
        "y_np = y.to_numpy()"
      ],
      "metadata": {
        "id": "__u_vyfHshfD"
      },
      "execution_count": 11,
      "outputs": []
    },
    {
      "cell_type": "code",
      "source": [
        "theta = np.zeros(X.shape[1])\n",
        "theta"
      ],
      "metadata": {
        "colab": {
          "base_uri": "https://localhost:8080/"
        },
        "id": "MQ51zrtWsakb",
        "outputId": "ac7ab87d-7ed2-4ab1-fe0d-9081638ef7c3"
      },
      "execution_count": 12,
      "outputs": [
        {
          "output_type": "execute_result",
          "data": {
            "text/plain": [
              "array([0., 0., 0.])"
            ]
          },
          "metadata": {},
          "execution_count": 12
        }
      ]
    },
    {
      "cell_type": "code",
      "source": [
        "print(cost_function(X_np, theta, y_np))"
      ],
      "metadata": {
        "colab": {
          "base_uri": "https://localhost:8080/"
        },
        "id": "Vj5FbMVss15e",
        "outputId": "bdd71871-4958-4fcd-ef29-5c2414b02366"
      },
      "execution_count": 13,
      "outputs": [
        {
          "output_type": "stream",
          "name": "stdout",
          "text": [
            "0.6931471805599453\n"
          ]
        }
      ]
    },
    {
      "cell_type": "code",
      "source": [
        "def gradient_descent(X, theta, y, num_iter, lr = 1e-10):\n",
        "  m = X.shape[0]\n",
        "  theta = np.zeros(X.shape[1])\n",
        "  learning_rate = lr\n",
        "  grad_array = []\n",
        "  for i in range(num_iter):\n",
        "    theta = theta - learning_rate * 1/m * np.transpose(X).dot(sigmoid(X, theta) - y)\n",
        "    grad_array.append(cost_function(X_np, theta, y_np))\n",
        "  return theta, grad_array"
      ],
      "metadata": {
        "id": "MLdzfwRAs6lf"
      },
      "execution_count": 14,
      "outputs": []
    },
    {
      "cell_type": "code",
      "source": [
        "theta, grad_array = gradient_descent(X_np, theta, y_np, 1000000, 1e-3)"
      ],
      "metadata": {
        "id": "GATJBcmKvJLR"
      },
      "execution_count": 15,
      "outputs": []
    },
    {
      "cell_type": "code",
      "source": [
        "plt.plot(grad_array)\n",
        "plt.grid()\n",
        "plt.xlabel('Number of iterations')\n",
        "plt.ylabel('Cost function')\n",
        "plt.title('Gradient descent convergence')"
      ],
      "metadata": {
        "colab": {
          "base_uri": "https://localhost:8080/",
          "height": 312
        },
        "id": "y-EU1ntZvO9k",
        "outputId": "e48bbf58-74a8-41b5-93b7-f76f15c7e890"
      },
      "execution_count": 16,
      "outputs": [
        {
          "output_type": "execute_result",
          "data": {
            "text/plain": [
              "Text(0.5, 1.0, 'Gradient descent convergence')"
            ]
          },
          "metadata": {},
          "execution_count": 16
        },
        {
          "output_type": "display_data",
          "data": {
            "text/plain": [
              "<Figure size 432x288 with 1 Axes>"
            ],
            "image/png": "[encoded data removed]"
          },
          "metadata": {
            "needs_background": "light"
          }
        }
      ]
    },
    {
      "cell_type": "code",
      "source": [
        "plt.figure(figsize=(10,5))\n",
        "sns.scatterplot(data=data, x=\"X1\", y=\"X2\", hue=\"y\")\n",
        "plot_y = (-1/theta[2])*(theta[1]*data['X1'] + theta[0])\n",
        "sns.lineplot(data[\"X1\"], plot_y, label='Decision boundary')\n",
        "plt.xlabel('Exam 1 score')\n",
        "plt.ylabel('Exam 2 score')\n",
        "plt.title('Scatter plot of training data')"
      ],
      "metadata": {
        "colab": {
          "base_uri": "https://localhost:8080/",
          "height": 422
        },
        "id": "y6bI3q3XxDOV",
        "outputId": "a1be22fe-8622-4f3f-fa97-5ebb7bb4ac38"
      },
      "execution_count": 17,
      "outputs": [
        {
          "output_type": "stream",
          "name": "stderr",
          "text": [
            "/usr/local/lib/python3.7/dist-packages/seaborn/_decorators.py:43: FutureWarning: Pass the following variables as keyword args: x, y. From version 0.12, the only valid positional argument will be `data`, and passing other arguments without an explicit keyword will result in an error or misinterpretation.\n",
            "  FutureWarning\n"
          ]
        },
        {
          "output_type": "execute_result",
          "data": {
            "text/plain": [
              "Text(0.5, 1.0, 'Scatter plot of training data')"
            ]
          },
          "metadata": {},
          "execution_count": 17
        },
        {
          "output_type": "display_data",
          "data": {
            "text/plain": [
              "<Figure size 720x360 with 1 Axes>"
            ],
            "image/png": "[encoded data removed]"
          },
          "metadata": {
            "needs_background": "light"
          }
        }
      ]
    },
    {
      "cell_type": "code",
      "source": [
        "print('Best value of the cost function:', cost_function(X_np, theta, y_np))\n",
        "print('Sigmoid values: \\n', sigmoid(X_np, theta))"
      ],
      "metadata": {
        "colab": {
          "base_uri": "https://localhost:8080/"
        },
        "id": "JaXuX8nxzWFB",
        "outputId": "52391cfe-726d-40d1-a39b-5db98bd55309"
      },
      "execution_count": 18,
      "outputs": [
        {
          "output_type": "stream",
          "name": "stdout",
          "text": [
            "Best value of the cost function: 0.22465416189188273\n",
            "Sigmoid values: \n",
            " [0.19814279 0.00216238 0.1337288  0.94759104 0.98147031 0.06208162\n",
            " 0.98611559 0.4823548  0.993772   0.68267774 0.82946201 0.1165341\n",
            " 0.98932345 0.99580656 0.26677232 0.92079484 0.4808509  0.27624527\n",
            " 0.99362838 0.57570889 0.18134998 0.98472003 0.05070155 0.00371227\n",
            " 0.95465469 0.76127228 0.59380721 0.78582516 0.21256877 0.07871827\n",
            " 0.80135441 0.92733685 0.27289416 0.44627001 0.17978224 0.11998565\n",
            " 0.74350728 0.93967101 0.32941447 0.14237215 0.90574066 0.04544475\n",
            " 0.9914136  0.53601853 0.03785262 0.26151456 0.95832407 0.99957685\n",
            " 0.98809103 0.99926315 0.98095985 0.99190695 0.82241321 0.02739102\n",
            " 0.05491889 0.15318464 0.99617726 0.6205803  0.93583701 0.96839622\n",
            " 0.99166458 0.0059978  0.03320286 0.00421146 0.17839308 0.13881655\n",
            " 0.85067983 0.06028361 0.99794163 0.65383312 0.00274858 0.9149604\n",
            " 0.99656351 0.78780869 0.80889486 0.99811599 0.81807996 0.58945613\n",
            " 0.08056052 0.59471812 0.98963013 0.91411063 0.80138911 0.31767416\n",
            " 0.99765562 0.97957015 0.41538888 0.99532443 0.99854006 0.22478026\n",
            " 0.99781454 0.99901684 0.01940996 0.98955383 0.84341835 0.77534038\n",
            " 0.66679408 0.99687913 0.41472745 0.99429742]\n"
          ]
        }
      ]
    },
    {
      "cell_type": "code",
      "source": [
        "def predict(X_np, theta):\n",
        "  return np.array([1 if x >=0.5 else 0 for x in sigmoid(X_np, theta)])"
      ],
      "metadata": {
        "id": "VDExZtTHY8NY"
      },
      "execution_count": 19,
      "outputs": []
    },
    {
      "cell_type": "code",
      "source": [
        "def evaluation_score(X_np, theta, y_np):\n",
        "  predictions = predict(X_np, theta)\n",
        "  result = np.mean(predictions == y_np)\n",
        "  return result"
      ],
      "metadata": {
        "id": "74Ph0wpOZb-a"
      },
      "execution_count": 20,
      "outputs": []
    },
    {
      "cell_type": "code",
      "source": [
        "print('Accuracy:', evaluation_score(X_np, theta, y_np) * 100, '%')"
      ],
      "metadata": {
        "colab": {
          "base_uri": "https://localhost:8080/"
        },
        "id": "wHokrYQbZaim",
        "outputId": "9bb614e3-83bb-4a06-b66f-8472c218b7f7"
      },
      "execution_count": 21,
      "outputs": [
        {
          "output_type": "stream",
          "name": "stdout",
          "text": [
            "Accuracy: 89.0 %\n"
          ]
        }
      ]
    },
    {
      "cell_type": "markdown",
      "source": [
        "# Regularized logistic regression + feature mapping"
      ],
      "metadata": {
        "id": "EoCDcCKikzls"
      }
    },
    {
      "cell_type": "code",
      "source": [
        "data = pd.read_csv('ex2data2.csv', header=None, names=['X1', 'X2', 'y'])"
      ],
      "metadata": {
        "id": "dJlHtos6zkzo"
      },
      "execution_count": 76,
      "outputs": []
    },
    {
      "cell_type": "code",
      "source": [
        "data.head()"
      ],
      "metadata": {
        "colab": {
          "base_uri": "https://localhost:8080/",
          "height": 206
        },
        "id": "A_Bn5Mn50xni",
        "outputId": "7c344699-c893-44a4-93ff-6dda5fdd05f4"
      },
      "execution_count": 77,
      "outputs": [
        {
          "output_type": "execute_result",
          "data": {
            "text/plain": [
              "         X1       X2  y\n",
              "0  0.051267  0.69956  1\n",
              "1 -0.092742  0.68494  1\n",
              "2 -0.213710  0.69225  1\n",
              "3 -0.375000  0.50219  1\n",
              "4 -0.513250  0.46564  1"
            ],
            "text/html": [
              "\n",
              "  <div id=\"df-1a0e4d6c-3818-404d-96e9-915709fde72a\">\n",
              "    <div class=\"colab-df-container\">\n",
              "      <div>\n",
              "<style scoped>\n",
              "    .dataframe tbody tr th:only-of-type {\n",
              "        vertical-align: middle;\n",
              "    }\n",
              "\n",
              "    .dataframe tbody tr th {\n",
              "        vertical-align: top;\n",
              "    }\n",
              "\n",
              "    .dataframe thead th {\n",
              "        text-align: right;\n",
              "    }\n",
              "</style>\n",
              "<table border=\"1\" class=\"dataframe\">\n",
              "  <thead>\n",
              "    <tr style=\"text-align: right;\">\n",
              "      <th></th>\n",
              "      <th>X1</th>\n",
              "      <th>X2</th>\n",
              "      <th>y</th>\n",
              "    </tr>\n",
              "  </thead>\n",
              "  <tbody>\n",
              "    <tr>\n",
              "      <th>0</th>\n",
              "      <td>0.051267</td>\n",
              "      <td>0.69956</td>\n",
              "      <td>1</td>\n",
              "    </tr>\n",
              "    <tr>\n",
              "      <th>1</th>\n",
              "      <td>-0.092742</td>\n",
              "      <td>0.68494</td>\n",
              "      <td>1</td>\n",
              "    </tr>\n",
              "    <tr>\n",
              "      <th>2</th>\n",
              "      <td>-0.213710</td>\n",
              "      <td>0.69225</td>\n",
              "      <td>1</td>\n",
              "    </tr>\n",
              "    <tr>\n",
              "      <th>3</th>\n",
              "      <td>-0.375000</td>\n",
              "      <td>0.50219</td>\n",
              "      <td>1</td>\n",
              "    </tr>\n",
              "    <tr>\n",
              "      <th>4</th>\n",
              "      <td>-0.513250</td>\n",
              "      <td>0.46564</td>\n",
              "      <td>1</td>\n",
              "    </tr>\n",
              "  </tbody>\n",
              "</table>\n",
              "</div>\n",
              "      <button class=\"colab-df-convert\" onclick=\"convertToInteractive('df-1a0e4d6c-3818-404d-96e9-915709fde72a')\"\n",
              "              title=\"Convert this dataframe to an interactive table.\"\n",
              "              style=\"display:none;\">\n",
              "        \n",
              "  <svg xmlns=\"http://www.w3.org/2000/svg\" height=\"24px\"viewBox=\"0 0 24 24\"\n",
              "       width=\"24px\">\n",
              "    <path d=\"M0 0h24v24H0V0z\" fill=\"none\"/>\n",
              "    <path d=\"M18.56 5.44l.94 2.06.94-2.06 2.06-.94-2.06-.94-.94-2.06-.94 2.06-2.06.94zm-11 1L8.5 8.5l.94-2.06 2.06-.94-2.06-.94L8.5 2.5l-.94 2.06-2.06.94zm10 10l.94 2.06.94-2.06 2.06-.94-2.06-.94-.94-2.06-.94 2.06-2.06.94z\"/><path d=\"M17.41 7.96l-1.37-1.37c-.4-.4-.92-.59-1.43-.59-.52 0-1.04.2-1.43.59L10.3 9.45l-7.72 7.72c-.78.78-.78 2.05 0 2.83L4 21.41c.39.39.9.59 1.41.59.51 0 1.02-.2 1.41-.59l7.78-7.78 2.81-2.81c.8-.78.8-2.07 0-2.86zM5.41 20L4 18.59l7.72-7.72 1.47 1.35L5.41 20z\"/>\n",
              "  </svg>\n",
              "      </button>\n",
              "      \n",
              "  <style>\n",
              "    .colab-df-container {\n",
              "      display:flex;\n",
              "      flex-wrap:wrap;\n",
              "      gap: 12px;\n",
              "    }\n",
              "\n",
              "    .colab-df-convert {\n",
              "      background-color: #E8F0FE;\n",
              "      border: none;\n",
              "      border-radius: 50%;\n",
              "      cursor: pointer;\n",
              "      display: none;\n",
              "      fill: #1967D2;\n",
              "      height: 32px;\n",
              "      padding: 0 0 0 0;\n",
              "      width: 32px;\n",
              "    }\n",
              "\n",
              "    .colab-df-convert:hover {\n",
              "      background-color: #E2EBFA;\n",
              "      box-shadow: 0px 1px 2px rgba(60, 64, 67, 0.3), 0px 1px 3px 1px rgba(60, 64, 67, 0.15);\n",
              "      fill: #174EA6;\n",
              "    }\n",
              "\n",
              "    [theme=dark] .colab-df-convert {\n",
              "      background-color: #3B4455;\n",
              "      fill: #D2E3FC;\n",
              "    }\n",
              "\n",
              "    [theme=dark] .colab-df-convert:hover {\n",
              "      background-color: #434B5C;\n",
              "      box-shadow: 0px 1px 3px 1px rgba(0, 0, 0, 0.15);\n",
              "      filter: drop-shadow(0px 1px 2px rgba(0, 0, 0, 0.3));\n",
              "      fill: #FFFFFF;\n",
              "    }\n",
              "  </style>\n",
              "\n",
              "      <script>\n",
              "        const buttonEl =\n",
              "          document.querySelector('#df-1a0e4d6c-3818-404d-96e9-915709fde72a button.colab-df-convert');\n",
              "        buttonEl.style.display =\n",
              "          google.colab.kernel.accessAllowed ? 'block' : 'none';\n",
              "\n",
              "        async function convertToInteractive(key) {\n",
              "          const element = document.querySelector('#df-1a0e4d6c-3818-404d-96e9-915709fde72a');\n",
              "          const dataTable =\n",
              "            await google.colab.kernel.invokeFunction('convertToInteractive',\n",
              "                                                     [key], {});\n",
              "          if (!dataTable) return;\n",
              "\n",
              "          const docLinkHtml = 'Like what you see? Visit the ' +\n",
              "            '<a target=\"_blank\" href=https://colab.research.google.com/notebooks/data_table.ipynb>data table notebook</a>'\n",
              "            + ' to learn more about interactive tables.';\n",
              "          element.innerHTML = '';\n",
              "          dataTable['output_type'] = 'display_data';\n",
              "          await google.colab.output.renderOutput(dataTable, element);\n",
              "          const docLink = document.createElement('div');\n",
              "          docLink.innerHTML = docLinkHtml;\n",
              "          element.appendChild(docLink);\n",
              "        }\n",
              "      </script>\n",
              "    </div>\n",
              "  </div>\n",
              "  "
            ]
          },
          "metadata": {},
          "execution_count": 77
        }
      ]
    },
    {
      "cell_type": "code",
      "source": [
        "X = data.copy()\n",
        "X.insert(0, '1', 1)\n",
        "y = X.pop('y')"
      ],
      "metadata": {
        "id": "Y5mXJAU03_-8"
      },
      "execution_count": 78,
      "outputs": []
    },
    {
      "cell_type": "code",
      "source": [
        "sns.scatterplot(data=data, x=\"X1\", y=\"X2\", hue=\"y\")\n",
        "plt.xlabel('Microchip Test 1')\n",
        "plt.ylabel('Microchip Test 2')\n",
        "plt.title('Scatter plot of training data')"
      ],
      "metadata": {
        "colab": {
          "base_uri": "https://localhost:8080/",
          "height": 312
        },
        "id": "znB0WJvn0v2j",
        "outputId": "6cbb5cac-691b-4fdc-a442-d74e52f68c57"
      },
      "execution_count": 79,
      "outputs": [
        {
          "output_type": "execute_result",
          "data": {
            "text/plain": [
              "Text(0.5, 1.0, 'Scatter plot of training data')"
            ]
          },
          "metadata": {},
          "execution_count": 79
        },
        {
          "output_type": "display_data",
          "data": {
            "text/plain": [
              "<Figure size 432x288 with 1 Axes>"
            ],
            "image/png": "[encoded data removed]"
          },
          "metadata": {
            "needs_background": "light"
          }
        }
      ]
    },
    {
      "cell_type": "markdown",
      "source": [
        "### Feature mapping"
      ],
      "metadata": {
        "id": "S5Djw_Tr3mNc"
      }
    },
    {
      "cell_type": "markdown",
      "source": [
        "As we can see in the figure above, it is imposible to split two classes with a straigth line. The solution to this problem is to use feature mapping.\n",
        "\n",
        "For this task I will creare more features from each data point. To be more precise, I will map the features into all polynomial terms of $x_1$ and $x_2$ up to the sixth power.\n",
        "\n",
        "\\begin{align}\n",
        "    mapFeature(x) &= \\begin{bmatrix}\n",
        "           1 \\\\\n",
        "           x_{1} \\\\\n",
        "           x_{2} \\\\\n",
        "           x_{1}^{2} \\\\\n",
        "           x_{1} x_{2} \\\\\n",
        "           x_{2}^{2} \\\\\n",
        "           x_{1}^{3} \\\\\n",
        "           \\vdots \\\\\n",
        "           x_{1}x_{2}^{5} \\\\\n",
        "           x_{2}^{6}\n",
        "         \\end{bmatrix}\n",
        "  \\end{align}\n",
        "\n",
        "As a result of this mapping, the vector of two features has been transfromed into a 28-dimensional vector. A logistic\n",
        "regression classifier trained on this higher-dimension feature vector will have a more complex decision boundary and will appear nonlinear when drawn in\n",
        "our 2-dimensional plot."
      ],
      "metadata": {
        "id": "gD7qtxSf1Uax"
      }
    },
    {
      "cell_type": "code",
      "source": [
        "def feature_mapping(X, degree=6):\n",
        "  X_spreaded = X.copy()\n",
        "  cnt = 0\n",
        "  for i in range(1, degree+1):\n",
        "      for j in range(0, i+1):\n",
        "          X_spreaded[str(cnt)] = X_spreaded.apply(lambda row: row['X1'] ** (i - j) \n",
        "          + row['X2'] ** j, axis=1)\n",
        "          cnt += 1\n",
        "  return X_spreaded"
      ],
      "metadata": {
        "id": "oT_FKb7R38G4"
      },
      "execution_count": 80,
      "outputs": []
    },
    {
      "cell_type": "code",
      "source": [
        "X_feature_map = feature_mapping(X, degree=6)"
      ],
      "metadata": {
        "id": "d6U3ERRb8ANZ"
      },
      "execution_count": 81,
      "outputs": []
    },
    {
      "cell_type": "markdown",
      "source": [
        "\n",
        "While the feature mapping allows us to build a more expressive classifier,\n",
        "it also more susceptible to overfitting. Here, the regularization comes to help."
      ],
      "metadata": {
        "id": "kAsZiGuB37Ob"
      }
    },
    {
      "cell_type": "markdown",
      "source": [
        "### Regularization"
      ],
      "metadata": {
        "id": "BbiD3ZRA3hsQ"
      }
    },
    {
      "cell_type": "markdown",
      "source": [
        "Let's recall the regularized cost function in logistic regression:\n",
        "\n",
        "\\begin{align}\n",
        "        J(\\theta)=\\frac{1}{m}\\sum_{i=1}^m[-y^{(i)}log(h_\\theta(x^{(i)})) - (1-y^{(i)})log(1-h_\\theta(x^{(i)}))] + \\frac{\\lambda}{2m}\\sum_{j=1}^n\\theta_j^2\n",
        "    \\end{align}\n",
        "\n",
        "The gradient of the cost function is a vector where the $j^{th}$ element is defined as follows:\n",
        "\\begin{align}\n",
        "\\frac{J(\\theta)}{\\partial\\theta_0} = \\frac{1}{m} \\sum_{i=1}^m(h_\\theta(x^{(i)}) - y^{(i)})x_j^{(i)}, \\ \\ \\ \\ \\ for \\ j=0\n",
        "  \\end{align}\n",
        "\n",
        "\\begin{align}\n",
        "\\frac{J(\\theta)}{\\partial\\theta_j} = \\frac{1}{m} \\sum_{i=1}^m(h_\\theta(x^{(i)}) - y^{(i)})x_j^{(i)} + \\frac{\\lambda}{m}\\theta_j, \\ \\ \\ \\ \\ for \\ j\\geq1\n",
        "  \\end{align}"
      ],
      "metadata": {
        "id": "W4Ibb5d1neTp"
      }
    },
    {
      "cell_type": "code",
      "source": [
        "def reg_cost_function(X, theta, y, reg_const=1):\n",
        "  m = X.shape[0]\n",
        "  cost = (1/m * (np.sum(-y*np.log(sigmoid(X, theta)) - \n",
        "                            (1 - y)*(np.log(1 - sigmoid(X, theta))))) + \n",
        "                            reg_const/(2*m)*sum(theta ** 2))\n",
        "  return cost"
      ],
      "metadata": {
        "id": "GEP0ZpX7k35c"
      },
      "execution_count": 82,
      "outputs": []
    },
    {
      "cell_type": "code",
      "source": [
        "def reg_gradient_descent(X, theta, y, num_iter=500, lr = 1, reg_const=1):\n",
        "  m = X.shape[0]\n",
        "  theta = np.zeros(X.shape[1])\n",
        "  learning_rate = lr\n",
        "  grad_array = []\n",
        "  tmp_array = np.ones(X.shape[1])\n",
        "  tmp_array[0] = 0\n",
        "  for i in range(num_iter):\n",
        "    theta = (theta * (1 - reg_const *  1/m * tmp_array) -  \n",
        "    learning_rate * 1/m * np.transpose(X).dot(sigmoid(X, theta) - y))\n",
        "    grad_array.append(reg_cost_function(X, theta, y))\n",
        "  return theta, grad_array"
      ],
      "metadata": {
        "id": "GQ77ektRyjPW"
      },
      "execution_count": 94,
      "outputs": []
    },
    {
      "cell_type": "code",
      "source": [
        "theta = np.zeros(X_feature_map.shape[1])\n",
        "X_np = X_feature_map\n",
        "y_np = y\n",
        "reg_theta, reg_grad_array = reg_gradient_descent(X_np, theta, y_np, num_iter=50000, lr = 1e-3, reg_const=0)"
      ],
      "metadata": {
        "id": "r6I1MLed8GtB"
      },
      "execution_count": 116,
      "outputs": []
    },
    {
      "cell_type": "code",
      "source": [
        "plt.plot(reg_grad_array)\n",
        "plt.grid()\n",
        "plt.xlabel('Number of iterations')\n",
        "plt.ylabel('Cost function')\n",
        "plt.title('Gradient descent convergence')"
      ],
      "metadata": {
        "colab": {
          "base_uri": "https://localhost:8080/",
          "height": 312
        },
        "id": "hbUy4Q6v8YOw",
        "outputId": "301c64e2-3509-450d-804b-c7df56d681f8"
      },
      "execution_count": 117,
      "outputs": [
        {
          "output_type": "execute_result",
          "data": {
            "text/plain": [
              "Text(0.5, 1.0, 'Gradient descent convergence')"
            ]
          },
          "metadata": {},
          "execution_count": 117
        },
        {
          "output_type": "display_data",
          "data": {
            "text/plain": [
              "<Figure size 432x288 with 1 Axes>"
            ],
            "image/png": "[encoded data removed]"
          },
          "metadata": {
            "needs_background": "light"
          }
        }
      ]
    },
    {
      "cell_type": "code",
      "source": [
        "print('Accuracy:', evaluation_score(X_np, reg_theta, y_np) * 100, '%')"
      ],
      "metadata": {
        "colab": {
          "base_uri": "https://localhost:8080/"
        },
        "id": "mwGdyIL8-LmC",
        "outputId": "645449ae-b263-4d9e-daba-9d01d32b826d"
      },
      "execution_count": 119,
      "outputs": [
        {
          "output_type": "stream",
          "name": "stdout",
          "text": [
            "Accuracy: 77.11864406779661 %\n"
          ]
        }
      ]
    }
  ]
}